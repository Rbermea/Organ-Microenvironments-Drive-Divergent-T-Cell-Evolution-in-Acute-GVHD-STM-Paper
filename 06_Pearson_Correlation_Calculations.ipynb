{
 "cells": [
  {
   "cell_type": "markdown",
   "id": "751258b3-c21d-4810-b4a7-831a9d976678",
   "metadata": {},
   "source": [
    "# Pearson Correlation Coefficient Calculation\n",
    "- This notebook provides the source code for calculation Pearson correlation coefficients for Figures 5L and S5B\n",
    "- To re-create the data used for Figure 5L, one would need to generate a list including the clonotype lists for Lung Terile 1 (Low Clonal Expansion), Lung Tertile 2 (Mid Clonal Expansion), and Lung Tertile 3 (High Clonocal Expansion) for shared clonotypes. The same would need to be done for liver cells.\n",
    "- For instructions on how to subset clonotypes (for use in \"subset_list\" below), please refer to the notebook \"03_Clonotype_Expansion_Analysis\"  "
   ]
  },
  {
   "cell_type": "code",
   "execution_count": null,
   "id": "5e6abaae-6794-4bab-909a-1166e895c873",
   "metadata": {},
   "outputs": [],
   "source": [
    "import numpy as np #v1.26.4\n",
    "import pandas as pd #v2.2.0\n",
    "import anndata #v0.10.5.post1\n",
    "import scanpy as sc #v1.9.8\n",
    "import random  \n",
    "\n",
    "c_iSeed = 6161904\n",
    "np.random.seed(c_iSeed)\n",
    "random.seed(c_iSeed)"
   ]
  },
  {
   "cell_type": "code",
   "execution_count": null,
   "id": "f820e9c5-82b7-4061-89bf-395320048c53",
   "metadata": {},
   "outputs": [],
   "source": [
    "#Import annData hdf5\n",
    "final_filtered_object = anndata.read_h5ad(filename=___) #Replace ___ with path to file \"02_final_filtered_object.hdf5\""
   ]
  },
  {
   "cell_type": "code",
   "execution_count": null,
   "id": "1da589cf-42ec-4584-8e68-3aec566275b0",
   "metadata": {},
   "outputs": [],
   "source": [
    "# Generate Proportion Table\n",
    "\n",
    "# \"subset_list\" should be a list of lists containing the desired clonotype subsets\n",
    "# \"subset_list_str\" should be a list of strings containing the titles of those lists (to eventually be exported to an external spreadsheet)\n",
    "\n",
    "final_prop_table = pd.DataFrame()\n",
    "\n",
    "for subset, subset_str in zip(subset_list, subset_list_str):\n",
    "    proportion_table = final_filtered_object.obs.copy()\n",
    "    if 'lung' in subset_str:\n",
    "        organ = \"Lung\"\n",
    "    elif 'liver' in subset_str:\n",
    "        organ = \"Liver\"\n",
    "    proportion_table = proportion_table[proportion_table['clonotype_id'].isin(subset)]\n",
    "    proportion_table = proportion_table[proportion_table['organ'] == organ]\n",
    "    proportion_table = proportion_table.groupby(['scVI_clusters']).size().reset_index(name='Cell_Count')\n",
    "    proportion_table['Proportions'] = proportion_table['Cell_Count'] / (proportion_table['Cell_Count'].sum())\n",
    "    proportion_table['Subset'] = subset_str\n",
    "    final_prop_table = pd.concat([final_prop_table,proportion_table], axis=0)\n",
    "    \n",
    "final_prop_table = final_prop_table.pivot(index = 'scVI_clusters', columns = 'Subset', values = 'Proportions')\n",
    "\n",
    "corr_matrix = final_prop_table.corr(method='pearson')"
   ]
  }
 ],
 "metadata": {
  "kernelspec": {
   "display_name": "Python 3 (ipykernel)",
   "language": "python",
   "name": "python3"
  },
  "language_info": {
   "codemirror_mode": {
    "name": "ipython",
    "version": 3
   },
   "file_extension": ".py",
   "mimetype": "text/x-python",
   "name": "python",
   "nbconvert_exporter": "python",
   "pygments_lexer": "ipython3",
   "version": "3.11.7"
  }
 },
 "nbformat": 4,
 "nbformat_minor": 5
}
