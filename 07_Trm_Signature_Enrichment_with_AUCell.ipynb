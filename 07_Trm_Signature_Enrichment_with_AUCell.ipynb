{
 "cells": [
  {
   "cell_type": "markdown",
   "id": "c9f20bc6-6b48-4622-95ff-195de0876159",
   "metadata": {},
   "source": [
    "# Trm Signature Enrichment with AUCell in Decoupler\n",
    "- This notebook contains the source code for calculating the AUCell scores for previously published tissue resident memory T cell signatures using decoupler as seen in Figure S4. Please refer to the figure legend and manuscript for signature references.\n",
    "- The list of genes in the signatures of interest have been provided as an excel file named **\"Signature_Gene_Lists\"**. Please call this file for the object **dfSignatureTable**"
   ]
  },
  {
   "cell_type": "code",
   "execution_count": null,
   "id": "157dc8df-5509-44e1-894f-b7a3c82f09af",
   "metadata": {},
   "outputs": [],
   "source": [
    "import numpy as np #v1.26.4\n",
    "import pandas as pd #v2.2.0\n",
    "import anndata #v0.10.5.post1\n",
    "import scanpy as sc #v1.9.8\n",
    "import decoupler as dc #v1.6.0\n",
    "import pybiomart #v0.2.0\n",
    "import random  \n",
    "\n",
    "c_iSeed = 6161904\n",
    "np.random.seed(c_iSeed)\n",
    "random.seed(c_iSeed)"
   ]
  },
  {
   "cell_type": "code",
   "execution_count": null,
   "id": "20c1e729-228e-4836-97a0-4cc3f1cd674a",
   "metadata": {},
   "outputs": [],
   "source": [
    "#Import annData hdf5\n",
    "final_filtered_object = anndata.read_h5ad(filename=___) #Replace ___ with path to file \"02_final_filtered_object.hdf5\""
   ]
  },
  {
   "cell_type": "code",
   "execution_count": null,
   "id": "55ab6b06-90f1-4e34-9370-e76f98e0a9bf",
   "metadata": {},
   "outputs": [],
   "source": [
    "# Import Gene Sets\n",
    "dfSignatureTable = pd.read_excel(___) #Replace ___ with path to file \"Signature_Gene_Lists.xlsx\""
   ]
  },
  {
   "cell_type": "code",
   "execution_count": null,
   "id": "d638c090-04ee-4c1f-b9a6-d0943b1a2acc",
   "metadata": {},
   "outputs": [],
   "source": [
    "# Import Human Gene IDs from Ensembl\n",
    "bmRhesus = pybiomart.Dataset(name='mmulatta_gene_ensembl',host='http://www.ensembl.org')\n",
    "dfAttributes = bmRhesus.list_attributes()\n",
    "dfAttributes[ (dfAttributes['name'].str.contains(\"olog\")) & (dfAttributes['name'].str.contains(\"sapiens\")) ]\n",
    "\n",
    "dfEnsembl_To_Human = bmRhesus.query(attributes=['ensembl_gene_id',\n",
    "                           'hsapiens_homolog_ensembl_gene',\n",
    "                           'hsapiens_homolog_associated_gene_name'])\n",
    "dfEnsembl_To_Human = dfEnsembl_To_Human.rename(columns={\"Gene stable ID\":\"gene_ids\",\n",
    "                                                       \"Human gene name\":\"genesymbol\"})"
   ]
  },
  {
   "cell_type": "code",
   "execution_count": null,
   "id": "3d864764-4c53-4dba-aecc-5d548a9fb807",
   "metadata": {},
   "outputs": [],
   "source": [
    "# Find Gene Symbols in annData Object\n",
    "missing_genes = dfSignatureTable.copy()\n",
    "gene_list = final_filtered_object.var.index.tolist()\n",
    "match = missing_genes['genesymbol'].isin(gene_list)\n",
    "missing_genes['match'] = match\n",
    "missing_genes = missing_genes.merge(dfEnsembl_To_Human,on='genesymbol',how='inner')\n",
    "missing_genes = missing_genes.sort_values(by=['genesymbol'])\n",
    "missing_gene_ids = missing_genes.copy()\n",
    "missing_gene_ids = missing_gene_ids.query('match == False')\n",
    "missing_gene_ids = missing_gene_ids['gene_ids'].tolist()"
   ]
  },
  {
   "cell_type": "code",
   "execution_count": null,
   "id": "67dd0846-94f4-4996-8eb7-ef31cdd02915",
   "metadata": {},
   "outputs": [],
   "source": [
    "# Return List of Genes in the Signature List that are Unmapped to a Gene ID\n",
    "unmatched_gene_list = final_filtered_object.var[final_filtered_object.var.index.isin(missing_gene_ids)]\n",
    "unmatched_gene_list = unmatched_gene_list.index.tolist()\n",
    "\n",
    "unmatched_gene_table = dfEnsembl_To_Human[dfEnsembl_To_Human['gene_ids'].isin(unmatched_gene_list)]\n",
    "unmatched_gene_table = unmatched_gene_table.sort_values(by=['genesymbol'])"
   ]
  },
  {
   "cell_type": "code",
   "execution_count": null,
   "id": "098b08fd-27a8-4feb-b2bf-bbaa1475c796",
   "metadata": {},
   "outputs": [],
   "source": [
    "# Remove Duplicates from Table\n",
    "unmatched_gene_table = unmatched_gene_table.drop_duplicates(subset=['gene_ids'])\n",
    "unmatched_gene_table['genesymbol'] = unmatched_gene_table['genesymbol'].replace('XCL1','XCL2') # XCL1 is a duplicate\n",
    "gene_id_list = unmatched_gene_table['gene_ids'].tolist()\n",
    "gene_symbol_list = unmatched_gene_table['genesymbol'].tolist()"
   ]
  },
  {
   "cell_type": "code",
   "execution_count": null,
   "id": "17fa66a7-93c5-46dd-b085-e9986e456fd4",
   "metadata": {},
   "outputs": [],
   "source": [
    "# Manually Rename Gene IDs\n",
    "enrichment_annData = final_filtered_object.copy()\n",
    "enrichment_annData.var['gene_name'] = enrichment_annData.var.index\n",
    "\n",
    "for x, y in zip(gene_id_list, gene_symbol_list):\n",
    "    enrichment_annData.var.loc[x,'gene_name'] = y\n",
    "\n",
    "enrichment_annData.var = enrichment_annData.var.set_index('gene_name')"
   ]
  },
  {
   "cell_type": "code",
   "execution_count": null,
   "id": "a7215394-53e2-46e5-a9a5-63bb2fada19c",
   "metadata": {},
   "outputs": [],
   "source": [
    "# Check that All Missing Genes Have Been Accounted For\n",
    "unmatched_gene_list = enrichment_annData.var[enrichment_annData.var.index.isin(missing_gene_ids)]\n",
    "unmatched_gene_list = unmatched_gene_list.index.tolist()\n",
    "unmatched_gene_list"
   ]
  },
  {
   "cell_type": "code",
   "execution_count": null,
   "id": "cab7728e-de66-4d5b-a27f-549435b7c1e7",
   "metadata": {},
   "outputs": [],
   "source": [
    "# Create Signatures List\n",
    "signatures = dfSignatureTable['geneset'].unique().tolist()\n",
    "signatures"
   ]
  },
  {
   "cell_type": "code",
   "execution_count": null,
   "id": "d24b1519-fd35-41db-ae02-7795f7047bee",
   "metadata": {},
   "outputs": [],
   "source": [
    "# Run DecoupleR AUCell Analysis\n",
    "\n",
    "all_annData_enrichment = enrichment_annData.copy()\n",
    "\n",
    "for x in signatures:\n",
    "    \n",
    "    geneset_table = dfSignatureTable[(dfSignatureTable['geneset']== x)]\n",
    "    geneset_table = geneset_table.drop_duplicates(subset=['geneset', 'genesymbol'])\n",
    "    \n",
    "    dc.run_aucell(mat=all_annData_enrichment,net= geneset_table, source='geneset',target='genesymbol',\n",
    "            verbose=False, min_n = 0, use_raw=False)\n",
    "    \n",
    "    aucell_score = pd.DataFrame(all_annData_enrichment.obsm['aucell_estimate'], index=all_annData_enrichment.obs.index)\n",
    "    all_annData_enrichment.obs = pd.concat([all_annData_enrichment.obs, aucell_score], axis=1)\n",
    "    all_annData_enrichment.obs = all_annData_enrichment.obs.rename(columns={x: x + \"_AUCell_Estimate\"})"
   ]
  },
  {
   "cell_type": "code",
   "execution_count": null,
   "id": "2ac66366-e090-4b38-b1f2-31f2eb0db6d4",
   "metadata": {},
   "outputs": [],
   "source": [
    "all_annData_enrichment.obs"
   ]
  }
 ],
 "metadata": {
  "kernelspec": {
   "display_name": "Python 3 (ipykernel)",
   "language": "python",
   "name": "python3"
  },
  "language_info": {
   "codemirror_mode": {
    "name": "ipython",
    "version": 3
   },
   "file_extension": ".py",
   "mimetype": "text/x-python",
   "name": "python",
   "nbconvert_exporter": "python",
   "pygments_lexer": "ipython3",
   "version": "3.11.7"
  }
 },
 "nbformat": 4,
 "nbformat_minor": 5
}
