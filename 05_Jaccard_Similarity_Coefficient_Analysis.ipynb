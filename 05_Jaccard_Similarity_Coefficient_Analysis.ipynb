{
 "cells": [
  {
   "cell_type": "markdown",
   "id": "33d3d28e-795b-4a5a-bfd2-5e069c247dbc",
   "metadata": {},
   "source": [
    "# Jaccard Similarity Coefficient\n",
    "- This notebook contains the code for calculating the Jaccard Similarity Coefficient (JSC) used in Figure 5E"
   ]
  },
  {
   "cell_type": "code",
   "execution_count": null,
   "id": "1a57b10c-46c1-4cde-ab65-7dd0c5034d55",
   "metadata": {},
   "outputs": [],
   "source": [
    "import numpy as np #v1.26.4\n",
    "import pandas as pd #v2.2.0\n",
    "import anndata #v0.10.5.post1\n",
    "import scanpy as sc #v1.9.8\n",
    "import random  \n",
    "\n",
    "c_iSeed = 6161904\n",
    "np.random.seed(c_iSeed)\n",
    "random.seed(c_iSeed)"
   ]
  },
  {
   "cell_type": "code",
   "execution_count": null,
   "id": "45f6c2c2-1a53-4ab5-9b23-077fb3ac4b11",
   "metadata": {},
   "outputs": [],
   "source": [
    "#Import annData hdf5\n",
    "final_filtered_object = anndata.read_h5ad(filename=___) #Replace ___ with path to file \"02_final_filtered_object.hdf5\""
   ]
  },
  {
   "cell_type": "code",
   "execution_count": null,
   "id": "b9229bf9-506b-4802-ad94-421adb887d2a",
   "metadata": {},
   "outputs": [],
   "source": [
    "# Find Shared Clonotypes For Every Animal\n",
    "all_overlap=(final_filtered_object.obs.groupby([\"clonotype_id\",\"organ\"])\n",
    ".size().reset_index(name=\"cells_in_clones\")\n",
    ".pivot(index=[\"clonotype_id\"],columns=[\"organ\"],values=\"cells_in_clones\")\n",
    ".query('(Lung>=1 and Liver>=1)'))\n",
    "\n",
    "all_overlap = all_overlap.index.tolist()"
   ]
  },
  {
   "cell_type": "code",
   "execution_count": null,
   "id": "26687663-f717-47af-af3f-191054d2fbe6",
   "metadata": {},
   "outputs": [],
   "source": [
    "# Generate JSC for Shared Clonotypes\n",
    "\n",
    "JSC_table = pd.DataFrame()\n",
    "\n",
    "for x in all_overlap:\n",
    "    \n",
    "    subset_table = final_filtered_object.obs.copy()\n",
    "    subset_table = subset_table[subset_table['clonotype_id'] == x]\n",
    "\n",
    "    Lung_clones = subset_table[subset_table['organ'] == 'Lung']\n",
    "    unique_lung_clusters = Lung_clones['scVI_clusters'].unique().tolist()\n",
    "\n",
    "    Liver_clones = subset_table[subset_table['organ'] == 'Liver']\n",
    "    unique_liver_clusters = Liver_clones['scVI_clusters'].unique().tolist()\n",
    "\n",
    "    numerator = set(unique_lung_clusters) & set(unique_liver_clusters)\n",
    "    denominator = set(unique_lung_clusters + unique_liver_clusters)\n",
    "\n",
    "    JSC = len(numerator) / len(denominator)\n",
    "    \n",
    "    temp_table = pd.DataFrame(data = {'Clonotype': [x], 'JSC': [JSC]})\n",
    "    JSC_table = pd.concat([JSC_table,temp_table])\n",
    "\n",
    "JSC_table = JSC_table.reset_index(drop= True)"
   ]
  }
 ],
 "metadata": {
  "kernelspec": {
   "display_name": "Python 3 (ipykernel)",
   "language": "python",
   "name": "python3"
  },
  "language_info": {
   "codemirror_mode": {
    "name": "ipython",
    "version": 3
   },
   "file_extension": ".py",
   "mimetype": "text/x-python",
   "name": "python",
   "nbconvert_exporter": "python",
   "pygments_lexer": "ipython3",
   "version": "3.11.7"
  }
 },
 "nbformat": 4,
 "nbformat_minor": 5
}
