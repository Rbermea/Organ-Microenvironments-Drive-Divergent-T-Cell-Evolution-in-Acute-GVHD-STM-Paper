{
 "cells": [
  {
   "cell_type": "markdown",
   "id": "5e0870d4-e581-4310-bc1b-16845b846d83",
   "metadata": {},
   "source": [
    "# Pseudobulk and Differential Expression\n",
    "\n",
    "- This notebook explains how pseudobulk data and differential expression analysis was conducted to generate the volcano plot in Figure 4E\n",
    "- Further, Figure 4F-G used the differential expression generated below to generate top biological pathways in the lung and liver using the Metascape tool. See the text for more information.  "
   ]
  },
  {
   "cell_type": "code",
   "execution_count": null,
   "id": "3a683732-5b2b-41cd-bbda-d95b5e59c548",
   "metadata": {},
   "outputs": [],
   "source": [
    "import numpy as np #v1.26.4\n",
    "import pandas as pd #v2.2.0\n",
    "import anndata #v0.10.5.post1\n",
    "import scanpy as sc #v1.9.8\n",
    "import pydeseq2 #v0.4.10\n",
    "import decoupler as dc #v1.6.0\n",
    "import random  \n",
    "\n",
    "c_iSeed = 6161904\n",
    "np.random.seed(c_iSeed)\n",
    "random.seed(c_iSeed)"
   ]
  },
  {
   "cell_type": "code",
   "execution_count": null,
   "id": "b405d348-a65a-4090-a8b8-0f60eaa806f4",
   "metadata": {},
   "outputs": [],
   "source": [
    "from pydeseq2.dds import DeseqDataSet\n",
    "from pydeseq2.ds import DeseqStats\n",
    "from pydeseq2.utils import load_example_data"
   ]
  },
  {
   "cell_type": "code",
   "execution_count": null,
   "id": "55299bed-6852-4fcb-96b8-732bfc1b18a0",
   "metadata": {},
   "outputs": [],
   "source": [
    "#Import annData hdf5\n",
    "final_filtered_object = anndata.read_h5ad(filename=___) #Replace ___ with path to file \"02_final_filtered_object.hdf5\""
   ]
  },
  {
   "cell_type": "code",
   "execution_count": null,
   "id": "4c815bbe-6439-48d5-91dc-8ae42fadc72d",
   "metadata": {},
   "outputs": [],
   "source": [
    "pseudo_data = dc.get_pseudobulk(\n",
    "    final_filtered_object,\n",
    "    sample_col='sample',\n",
    "    groups_col=None,\n",
    "    layer='raw_counts',\n",
    "    mode='sum',\n",
    "    min_cells=0,\n",
    "    min_counts=0\n",
    ")"
   ]
  },
  {
   "cell_type": "code",
   "execution_count": null,
   "id": "1b8681fc-d57a-40dd-b103-3facb771f8c3",
   "metadata": {},
   "outputs": [],
   "source": [
    "dds = DeseqDataSet(adata=pseudo_data,\n",
    "                  design_factors='organ',\n",
    "                  refit_cooks=True)"
   ]
  },
  {
   "cell_type": "code",
   "execution_count": null,
   "id": "eac2962b-77ad-4cf3-a681-6b54c5bbe514",
   "metadata": {},
   "outputs": [],
   "source": [
    "dds.deseq2()"
   ]
  },
  {
   "cell_type": "code",
   "execution_count": null,
   "id": "5bd32a72-41c0-4986-bd6e-74b1d53c6e38",
   "metadata": {},
   "outputs": [],
   "source": [
    "dds.fit_LFC()"
   ]
  },
  {
   "cell_type": "code",
   "execution_count": null,
   "id": "26ad9756-b0c5-4000-adf0-16617a72a119",
   "metadata": {},
   "outputs": [],
   "source": [
    "stat_res = DeseqStats(dds)"
   ]
  },
  {
   "cell_type": "code",
   "execution_count": null,
   "id": "ac901c5e-af32-4823-a25f-352724c5c703",
   "metadata": {},
   "outputs": [],
   "source": [
    "stat_res.summary()"
   ]
  }
 ],
 "metadata": {
  "kernelspec": {
   "display_name": "Python 3 (ipykernel)",
   "language": "python",
   "name": "python3"
  },
  "language_info": {
   "codemirror_mode": {
    "name": "ipython",
    "version": 3
   },
   "file_extension": ".py",
   "mimetype": "text/x-python",
   "name": "python",
   "nbconvert_exporter": "python",
   "pygments_lexer": "ipython3",
   "version": "3.11.7"
  }
 },
 "nbformat": 4,
 "nbformat_minor": 5
}
