{
 "cells": [
  {
   "cell_type": "markdown",
   "id": "b336cd29-13cf-4314-a64e-1dd2e14d265b",
   "metadata": {},
   "source": [
    "# Agglomerative Hierarchical Clustering of Shared Clonotypes and Euclidean Distance Calculation Between Dendrogram Leaves\n",
    "- This notebook explains how agglomerative hierarchical clustering was performed for shared clonotypes with >=5 cells in each organ, as seen in Figure 6. Note: Figure 6C is a representative dendrogram (clonotype32).\n",
    "- Much of the source code is borrowed from the scikit learn example on plotting hierarchical clustering dendograms and can be found here: https://scikit-learn.org/stable/auto_examples/cluster/plot_agglomerative_dendrogram.html\n",
    "- Further, we show how Euclidean distances were calculated between dendrogram leaves for each shared clonotype with >=5 cells in each organ (as seen in Fig 6D)."
   ]
  },
  {
   "cell_type": "code",
   "execution_count": null,
   "id": "975bf565-0774-40c2-bd12-f1934b005193",
   "metadata": {},
   "outputs": [],
   "source": [
    "import numpy as np #v1.26.4\n",
    "import pandas as pd #v2.2.0\n",
    "import anndata #v0.10.5.post1\n",
    "import scanpy as sc #v1.9.8\n",
    "import pydeseq2 #v0.4.10\n",
    "import decoupler as dc #v1.6.0\n",
    "import matplotlib.pyplot as plt #matplotlib v3.7.3\n",
    "import random  \n",
    "\n",
    "c_iSeed = 6161904\n",
    "np.random.seed(c_iSeed)\n",
    "random.seed(c_iSeed)"
   ]
  },
  {
   "cell_type": "code",
   "execution_count": null,
   "id": "487a0a2c-d7f2-44f4-a57b-247c93c222c3",
   "metadata": {},
   "outputs": [],
   "source": [
    "# Import Hierarchical Clustering Packages\n",
    "import scipy #v1.12.0\n",
    "from scipy.cluster.hierarchy import dendrogram\n",
    "from sklearn.datasets import load_iris #sklearn v.\n",
    "from sklearn.cluster import AgglomerativeClustering"
   ]
  },
  {
   "cell_type": "code",
   "execution_count": null,
   "id": "e9642065-f7cf-49f4-9913-965acfda63c0",
   "metadata": {},
   "outputs": [],
   "source": [
    "#Import annData hdf5\n",
    "final_filtered_object = anndata.read_h5ad(filename=___) #Replace ___ with path to file \"02_final_filtered_object.hdf5\""
   ]
  },
  {
   "cell_type": "markdown",
   "id": "33fe3b17-0393-4202-99ca-7d4ed7592adc",
   "metadata": {},
   "source": [
    "## Agglomerative Hierarchical Clustering"
   ]
  },
  {
   "cell_type": "code",
   "execution_count": null,
   "id": "197f13d5-0ff6-4a49-b627-95ec8446218d",
   "metadata": {},
   "outputs": [],
   "source": [
    "# Generate List of Clonotypes with >= 5 Cells in Both Lung and Liver\n",
    "(final_filtered_object.obs.groupby([\"clonotype_id\",\"animal_id\",\"organ\"])\n",
    ".size().reset_index(name=\"cells_in_clones\")\n",
    ".pivot(index=[\"clonotype_id\",\"animal_id\"],columns=[\"organ\"],values=\"cells_in_clones\")\n",
    ".query('Liver >= 5 and Lung >= 5'))"
   ]
  },
  {
   "cell_type": "code",
   "execution_count": null,
   "id": "610082d5-9064-4d4b-9f26-5f78759fbf05",
   "metadata": {},
   "outputs": [],
   "source": [
    "def plot_dendrogram(model, **kwargs):\n",
    "    # Create linkage matrix and then plot the dendrogram\n",
    "\n",
    "    # create the counts of samples under each node\n",
    "    counts = np.zeros(model.children_.shape[0])\n",
    "    n_samples = len(model.labels_)\n",
    "    for i, merge in enumerate(model.children_):\n",
    "        current_count = 0\n",
    "        for child_idx in merge:\n",
    "            if child_idx < n_samples:\n",
    "                current_count += 1  # leaf node\n",
    "            else:\n",
    "                current_count += counts[child_idx - n_samples]\n",
    "        counts[i] = current_count\n",
    "\n",
    "    linkage_matrix = np.column_stack(\n",
    "        [model.children_, model.distances_, counts]\n",
    "    ).astype(float)\n",
    "\n",
    "    # Plot the corresponding dendrogram\n",
    "    dendrogram(linkage_matrix, **kwargs) #return only for leaves\n",
    "\n",
    "# Filter by Clonotype\n",
    "clonotype_data = final_filtered_object[(final_filtered_object.obs['clonotype_id'].isin(['clonotype32']))] # Insert desired clonotype here\n",
    "X = clonotype_data.obsm[\"scVI_Latent_Space\"]\n",
    "organ_labels = clonotype_data.obs['organ']\n",
    "organ_labels = organ_labels.to_numpy()\n",
    "\n",
    "# setting distance_threshold=0 ensures we compute the full tree.\n",
    "model = AgglomerativeClustering(distance_threshold=0, n_clusters=None, compute_distances=True)\n",
    "\n",
    "model = model.fit(X)\n",
    "\n",
    "plot_dendrogram(model, truncate_mode=None, leaf_rotation=90, labels=organ_labels) # plot dendrogram\n",
    "tree = plot_dendrogram(model, truncate_mode=None, leaf_rotation=90, labels=organ_labels) # plot dendrogram\n",
    "\n",
    "label_colors = {'Lung': 'b', 'Liver': 'k'}\n",
    "\n",
    "ax = plt.gca()\n",
    "xlbls = ax.get_xmajorticklabels()\n",
    "for lbl in xlbls:\n",
    "    lbl.set_color(label_colors[lbl.get_text()])\n",
    "    \n",
    "plt.show()"
   ]
  },
  {
   "cell_type": "markdown",
   "id": "4bbf62fe-1464-45ec-b586-817277d1bc34",
   "metadata": {},
   "source": [
    "## Euclidean Distance Calculation"
   ]
  },
  {
   "cell_type": "code",
   "execution_count": null,
   "id": "4f93cae3-989e-498f-90d0-09982cb233e3",
   "metadata": {},
   "outputs": [],
   "source": [
    "# Print Euclidian Distances for Each Category (Liver v Liver, Lung v Lung, Liver v Lung)\n",
    "\n",
    "Final_Table = pd.DataFrame()\n",
    "    \n",
    "# Filter by Clonotype\n",
    "clonotype_data = final_filtered_object[(final_filtered_object.obs['clonotype_id'].isin(['clonotype2','clonotype5','clonotype8','clonotype11','clonotype17','clonotype19','clonotype32','clonotype34','clonotype42','clonotype43','clonotype45','clonotype53']))]\n",
    "X = clonotype_data.obsm[\"scVI_Latent_Space\"]\n",
    "organ_labels = clonotype_data.obs['organ']\n",
    "organ_labels = organ_labels.to_numpy()\n",
    "\n",
    "# setting distance_threshold=0 ensures we compute the full tree.\n",
    "model = AgglomerativeClustering(distance_threshold=0, n_clusters=None, compute_distances=True)\n",
    "model = model.fit(X)\n",
    "    \n",
    "# Generate Table\n",
    "\n",
    "leaves = len(model.labels_)-1\n",
    "\n",
    "Organ_Label_1 = pd.DataFrame(organ_labels)\n",
    "Organ_Label_1.columns = [\"Organ\"]\n",
    "Organ_Label_1[\"Node_x\"]= Organ_Label_1.index\n",
    "\n",
    "Organ_Label_2 = pd.DataFrame(organ_labels)\n",
    "Organ_Label_2.columns = [\"Organ\"]\n",
    "Organ_Label_2[\"Node_y\"]= Organ_Label_2.index\n",
    "\n",
    "Euclidian_Children = pd.DataFrame(model.children_)\n",
    "Euclidian_Children.columns = [\"Node_x\", \"Node_y\"]\n",
    "\n",
    "Euclidian_Children = Euclidian_Children.merge(Organ_Label_1, how='left', on='Node_x')\n",
    "Euclidian_Children = Euclidian_Children.merge(Organ_Label_2, how='left', on='Node_y')\n",
    "\n",
    "Euclidian_Distance = pd.DataFrame(model.distances_)\n",
    "Euclidian_Children['Distance']= Euclidian_Distance\n",
    "\n",
    "Final_Table_All_Clones = Euclidian_Children[(Euclidian_Children['Node_x'] <= leaves) & (Euclidian_Children['Node_y'] <= leaves)]\n",
    "\n",
    "categories = [\n",
    "    (Final_Table_All_Clones['Organ_x'] == 'Liver') & (Final_Table_All_Clones['Organ_y'] == 'Liver'),\n",
    "    (Final_Table_All_Clones['Organ_x'] == 'Lung') & (Final_Table_All_Clones['Organ_y'] == 'Lung'),\n",
    "    ((Final_Table_All_Clones['Organ_x'] == 'Liver') & (Final_Table_All_Clones['Organ_y'] == 'Lung')) | ((Final_Table_All_Clones['Organ_x'] == 'Lung') & (Final_Table_All_Clones['Organ_y'] == 'Liver'))\n",
    "]\n",
    "\n",
    "values = ['Liver vs Liver', 'Lung vs Lung', 'Liver vs Lung']\n",
    "\n",
    "Final_Table_All_Clones['Category'] = np.select(categories, values)\n",
    "Final_Table_All_Clones = Final_Table_All_Clones.pivot(columns = 'Category', values = 'Distance').reset_index(drop=True)\n",
    "\n",
    "print(Final_Table_All_Clones)"
   ]
  }
 ],
 "metadata": {
  "kernelspec": {
   "display_name": "Python 3 (ipykernel)",
   "language": "python",
   "name": "python3"
  },
  "language_info": {
   "codemirror_mode": {
    "name": "ipython",
    "version": 3
   },
   "file_extension": ".py",
   "mimetype": "text/x-python",
   "name": "python",
   "nbconvert_exporter": "python",
   "pygments_lexer": "ipython3",
   "version": "3.11.7"
  }
 },
 "nbformat": 4,
 "nbformat_minor": 5
}
